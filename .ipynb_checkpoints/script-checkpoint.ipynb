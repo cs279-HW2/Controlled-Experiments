{
 "cells": [
  {
   "cell_type": "code",
   "execution_count": 31,
   "metadata": {
    "collapsed": true
   },
   "outputs": [],
   "source": [
    "import numpy as np\n",
    "import glob, os\n",
    "import json"
   ]
  },
  {
   "cell_type": "markdown",
   "metadata": {},
   "source": [
    "## Randomnized Img Dict"
   ]
  },
  {
   "cell_type": "code",
   "execution_count": 32,
   "metadata": {
    "collapsed": true
   },
   "outputs": [],
   "source": [
    "imgs = []"
   ]
  },
  {
   "cell_type": "code",
   "execution_count": 33,
   "metadata": {
    "collapsed": true
   },
   "outputs": [],
   "source": [
    "for file in glob.glob(\"./img/*.jpg\"):\n",
    "    imgs.append(file)"
   ]
  },
  {
   "cell_type": "code",
   "execution_count": 34,
   "metadata": {},
   "outputs": [
    {
     "data": {
      "text/plain": [
       "85"
      ]
     },
     "execution_count": 34,
     "metadata": {},
     "output_type": "execute_result"
    }
   ],
   "source": [
    "seeds = np.random.permutation(len(imgs))\n",
    "seeds\n",
    "len(imgs)"
   ]
  },
  {
   "cell_type": "code",
   "execution_count": 35,
   "metadata": {},
   "outputs": [
    {
     "data": {
      "text/plain": [
       "array([ 0, 60,  8, 18, 14, 72, 77, 68, 46, 48, 75, 42, 78, 26, 25, 22, 34,\n",
       "       30,  9, 21,  6,  5, 16, 45, 79, 38, 49, 29,  2,  3, 50, 39, 35, 13,\n",
       "       32, 10, 80, 63, 54, 12, 57, 36, 44, 41, 64, 70, 73, 53, 81, 67, 65,\n",
       "        7, 52, 43, 24,  4, 69, 71, 62, 56, 82, 58, 20, 31, 82, 28, 55, 51,\n",
       "       17, 11, 59, 76, 82, 47, 33, 19, 27, 66, 61, 74,  1, 37, 23, 15, 84])"
      ]
     },
     "execution_count": 35,
     "metadata": {},
     "output_type": "execute_result"
    }
   ],
   "source": [
    "for i in range(0, len(imgs)):\n",
    "    if seeds[i] == 0:\n",
    "        tmp = seeds[0]\n",
    "        seeds[0] = 0\n",
    "        seeds[i] = tmp\n",
    "    if seeds[i] == len(imgs)-1:\n",
    "        tmp = seeds[len(imgs)-1]\n",
    "        seeds[len(imgs)-1] = len(imgs)-1\n",
    "        seeds[i] = tmp\n",
    "    #first break\n",
    "    if seeds[i] == len(imgs)-7:\n",
    "        tmp = seeds[12]\n",
    "        seeds[12] = len(imgs)-7\n",
    "        seeds[i] = tmp\n",
    "    #second break\n",
    "    if seeds[i] == len(imgs)-6:\n",
    "        tmp = seeds[24]\n",
    "        seeds[24] = len(imgs)-6\n",
    "        seeds[i] = tmp\n",
    "    #third break\n",
    "    if seeds[i] == len(imgs)-5:\n",
    "        tmp = seeds[36]\n",
    "        seeds[36] = len(imgs)-5\n",
    "        seeds[i] = tmp\n",
    "    #fourth break\n",
    "    if seeds[i] == len(imgs)-4:\n",
    "        tmp = seeds[48]\n",
    "        seeds[48] = len(imgs)-4\n",
    "        seeds[i] = tmp\n",
    "    #fifth break\n",
    "    if seeds[i] == len(imgs)-3:\n",
    "        tmp = seeds[60]\n",
    "        seeds[60] = len(imgs)-3\n",
    "        seeds[i] = tmp\n",
    "    #sixth break\n",
    "    if seeds[i] == len(imgs)-2:\n",
    "        tmp = seeds[72]\n",
    "        seeds[72] = len(imgs)-2\n",
    "        seeds[i] = tmp\n",
    "seeds\n",
    "        "
   ]
  },
  {
   "cell_type": "code",
   "execution_count": 36,
   "metadata": {},
   "outputs": [
    {
     "data": {
      "text/plain": [
       "array(['./img/0.jpg', './img/1-1-0-0.jpg', './img/1-1-1-1.jpg',\n",
       "       './img/1-1-1-2.jpg', './img/1-1-1-3.jpg', './img/1-1-2-1.jpg',\n",
       "       './img/1-1-2-2.jpg', './img/1-1-2-3.jpg', './img/1-2-0-0.jpg',\n",
       "       './img/1-2-1-1.jpg', './img/1-2-1-2.jpg', './img/1-2-1-3.jpg',\n",
       "       './img/1-2-2-1.jpg', './img/1-2-2-2.jpg', './img/1-2-2-3.jpg',\n",
       "       './img/1-3-0-0.jpg', './img/1-3-1-1.jpg', './img/1-3-1-2.jpg',\n",
       "       './img/1-3-1-3.jpg', './img/1-3-2-1.jpg', './img/1-3-2-2.jpg',\n",
       "       './img/1-3-2-3.jpg', './img/2-1-0-0.jpg', './img/2-1-1-1.jpg',\n",
       "       './img/2-1-1-2.jpg', './img/2-1-1-3.jpg', './img/2-1-2-1.jpg',\n",
       "       './img/2-1-2-2.jpg', './img/2-1-2-3.jpg', './img/2-2-0-0.jpg',\n",
       "       './img/2-2-1-1.jpg', './img/2-2-1-2.jpg', './img/2-2-1-3.jpg',\n",
       "       './img/2-2-2-1.jpg', './img/2-2-2-2.jpg', './img/2-2-2-3.jpg',\n",
       "       './img/2-3-0-0.jpg', './img/2-3-1-1.jpg', './img/2-3-1-2.jpg',\n",
       "       './img/2-3-1-3.jpg', './img/2-3-2-1.jpg', './img/2-3-2-2.jpg',\n",
       "       './img/2-3-2-3.jpg', './img/3-1-0-0.jpg', './img/3-1-1-1.jpg',\n",
       "       './img/3-1-1-2.jpg', './img/3-1-1-3.jpg', './img/3-1-2-1.jpg',\n",
       "       './img/3-1-2-2.jpg', './img/3-1-2-3.jpg', './img/3-2-0-0.jpg',\n",
       "       './img/3-2-1-1.jpg', './img/3-2-1-2.jpg', './img/3-2-1-3.jpg',\n",
       "       './img/3-2-2-1.jpg', './img/3-2-2-2.jpg', './img/3-2-2-3.jpg',\n",
       "       './img/3-3-0-0.jpg', './img/3-3-1-1.jpg', './img/3-3-1-2.jpg',\n",
       "       './img/3-3-1-3.jpg', './img/3-3-2-1.jpg', './img/3-3-2-2.jpg',\n",
       "       './img/3-3-2-3.jpg', './img/4-1-0-0.jpg', './img/4-1-1-1.jpg',\n",
       "       './img/4-1-1-2.jpg', './img/4-1-1-3.jpg', './img/4-1-2-1.jpg',\n",
       "       './img/4-1-2-2.jpg', './img/4-1-2-3.jpg', './img/4-2-0-0.jpg',\n",
       "       './img/4-2-1-1.jpg', './img/4-2-1-2.jpg', './img/4-2-1-3.jpg',\n",
       "       './img/4-2-2-1.jpg', './img/4-2-2-2.jpg', './img/4-2-2-3.jpg',\n",
       "       './img/6-1.jpg', './img/6-2.jpg', './img/6-3.jpg', './img/6-4.jpg',\n",
       "       './img/6-5.jpg', './img/6-6.jpg', './img/7.jpg'], \n",
       "      dtype='|S17')"
      ]
     },
     "execution_count": 36,
     "metadata": {},
     "output_type": "execute_result"
    }
   ],
   "source": [
    "imgs = np.array(imgs)\n",
    "imgs"
   ]
  },
  {
   "cell_type": "code",
   "execution_count": 37,
   "metadata": {},
   "outputs": [
    {
     "name": "stdout",
     "output_type": "stream",
     "text": [
      "85\n"
     ]
    },
    {
     "data": {
      "text/plain": [
       "array(['./img/0.jpg', './img/3-3-1-3.jpg', './img/1-2-0-0.jpg',\n",
       "       './img/1-3-1-3.jpg', './img/1-2-2-3.jpg', './img/4-2-1-1.jpg',\n",
       "       './img/4-2-2-3.jpg', './img/4-1-2-1.jpg', './img/3-1-1-3.jpg',\n",
       "       './img/3-1-2-2.jpg', './img/4-2-2-1.jpg', './img/2-3-2-3.jpg',\n",
       "       './img/6-1.jpg', './img/2-1-2-1.jpg', './img/2-1-1-3.jpg',\n",
       "       './img/2-1-0-0.jpg', './img/2-2-2-2.jpg', './img/2-2-1-1.jpg',\n",
       "       './img/1-2-1-1.jpg', './img/1-3-2-3.jpg', './img/1-1-2-2.jpg',\n",
       "       './img/1-1-2-1.jpg', './img/1-3-1-1.jpg', './img/3-1-1-2.jpg',\n",
       "       './img/6-2.jpg', './img/2-3-1-2.jpg', './img/3-1-2-3.jpg',\n",
       "       './img/2-2-0-0.jpg', './img/1-1-1-1.jpg', './img/1-1-1-2.jpg',\n",
       "       './img/3-2-0-0.jpg', './img/2-3-1-3.jpg', './img/2-2-2-3.jpg',\n",
       "       './img/1-2-2-2.jpg', './img/2-2-1-3.jpg', './img/1-2-1-2.jpg',\n",
       "       './img/6-3.jpg', './img/3-3-2-3.jpg', './img/3-2-2-1.jpg',\n",
       "       './img/1-2-2-1.jpg', './img/3-3-0-0.jpg', './img/2-3-0-0.jpg',\n",
       "       './img/3-1-1-1.jpg', './img/2-3-2-2.jpg', './img/4-1-0-0.jpg',\n",
       "       './img/4-1-2-3.jpg', './img/4-2-1-2.jpg', './img/3-2-1-3.jpg',\n",
       "       './img/6-4.jpg', './img/4-1-1-3.jpg', './img/4-1-1-1.jpg',\n",
       "       './img/1-1-2-3.jpg', './img/3-2-1-2.jpg', './img/3-1-0-0.jpg',\n",
       "       './img/2-1-1-2.jpg', './img/1-1-1-3.jpg', './img/4-1-2-2.jpg',\n",
       "       './img/4-2-0-0.jpg', './img/3-3-2-2.jpg', './img/3-2-2-3.jpg',\n",
       "       './img/6-5.jpg', './img/3-3-1-1.jpg', './img/1-3-2-2.jpg',\n",
       "       './img/2-2-1-2.jpg', './img/6-5.jpg', './img/2-1-2-3.jpg',\n",
       "       './img/3-2-2-2.jpg', './img/3-2-1-1.jpg', './img/1-3-1-2.jpg',\n",
       "       './img/1-2-1-3.jpg', './img/3-3-1-2.jpg', './img/4-2-2-2.jpg',\n",
       "       './img/6-5.jpg', './img/3-1-2-1.jpg', './img/2-2-2-1.jpg',\n",
       "       './img/1-3-2-1.jpg', './img/2-1-2-2.jpg', './img/4-1-1-2.jpg',\n",
       "       './img/3-3-2-1.jpg', './img/4-2-1-3.jpg', './img/1-1-0-0.jpg',\n",
       "       './img/2-3-1-1.jpg', './img/2-1-1-1.jpg', './img/1-3-0-0.jpg',\n",
       "       './img/7.jpg'], \n",
       "      dtype='|S17')"
      ]
     },
     "execution_count": 37,
     "metadata": {},
     "output_type": "execute_result"
    }
   ],
   "source": [
    "perm_imgs = imgs[seeds]\n",
    "\n",
    "print (len(perm_imgs))\n",
    "perm_imgs"
   ]
  },
  {
   "cell_type": "code",
   "execution_count": 38,
   "metadata": {
    "collapsed": true
   },
   "outputs": [],
   "source": [
    "img_dict = {i: perm_imgs[i] for i in range(len(imgs))  }"
   ]
  },
  {
   "cell_type": "code",
   "execution_count": 39,
   "metadata": {
    "collapsed": true
   },
   "outputs": [],
   "source": [
    "with open(\"./json/img_json.json\", 'w') as outputfile:\n",
    "    json.dump(img_dict, outputfile)"
   ]
  },
  {
   "cell_type": "markdown",
   "metadata": {},
   "source": [
    "## try scripting localstorage file"
   ]
  },
  {
   "cell_type": "markdown",
   "metadata": {},
   "source": [
    "**To make the following codes work, need to:**\n",
    "- Download the right version of geckodriver from \"https://github.com/mozilla/geckodriver/releases\", upzip and copy the executable file to `usr/local/bin` (this is on mac and ubuntu, could be the same for Windows)\n",
    "- Download the right chromedriver and move it into the same folder \"https://chromedriver.storage.googleapis.com/index.html?path=2.32/\""
   ]
  },
  {
   "cell_type": "code",
   "execution_count": 18,
   "metadata": {
    "collapsed": true
   },
   "outputs": [],
   "source": [
    "#borrow the work from \"https://stackoverflow.com/questions/35508631/access-and-manage-local-storage-from-splinter\"\n",
    "class LocalStorage:\n",
    "\n",
    "    def __init__(self, browser):\n",
    "        self.browser = browser\n",
    "\n",
    "    def set(self, key, value):\n",
    "        self.browser.execute_script(\\\n",
    "      \"window.localStorage.setItem('{}',{})\".format(key, json.dumps(value)))\n",
    "\n",
    "    def get(self, key):\n",
    "        return self.browser.evaluate_script(\\\n",
    "      \"window.localStorage.getItem('{}')\".format(key));\n",
    "\n",
    "    def get_all(self):\n",
    "        return self.browser.evaluate_script(\"\"\"(function(){\n",
    "      var items = {}, ls = window.localStorage;\n",
    "      for (var i = 0, k; i < ls.length; i++)\n",
    "        items[k = ls.key(i)] = ls.getItem(k);\n",
    "      return items;\n",
    "      })()\"\"\")\n",
    "\n",
    "    def remove(self, key):\n",
    "        self.browser.execute_script(\\\n",
    "      \"window.localStorage.removeItem('{}');\".format(key));\n",
    "\n",
    "    def clear(self):\n",
    "        self.browser.execute_script(\\\n",
    "      \"window.localStorage.clear();\")"
   ]
  },
  {
   "cell_type": "code",
   "execution_count": 19,
   "metadata": {},
   "outputs": [
    {
     "name": "stdout",
     "output_type": "stream",
     "text": [
      "None\n",
      "XU: SI\n"
     ]
    }
   ],
   "source": [
    "from splinter import Browser\n",
    "from selenium import webdriver\n",
    "#driver = webdriver.Chrome()\n",
    "\n",
    "browser = Browser(driver_name='chrome')\n",
    "browser.visit(\"http://localhost:63342/Controlled-Experiments/index.html?_ijt=psenthg1brt9rne58nt7svsmks\")\n",
    "#the url of our website, could be localhost or github io\n",
    "\n",
    "# get the local storage\n",
    "storage = LocalStorage(browser)\n",
    "\n",
    "# get an item\n",
    "print (storage.get(\"bgcolor\"))\n",
    "\n",
    "# set an item\n",
    "storage.set(\"size\", 452)\n",
    "\n",
    "# remove an item\n",
    "storage.remove(\"size\")\n",
    "\n",
    "# get all items\n",
    "for key, value in storage.get_all().items():\n",
    "    print (key + ': ' + value)\n",
    "\n",
    "# delete all items\n",
    "storage.clear()"
   ]
  },
  {
   "cell_type": "code",
   "execution_count": 20,
   "metadata": {},
   "outputs": [
    {
     "name": "stdout",
     "output_type": "stream",
     "text": [
      "traject3: {\"food\":\"3\",\"num\":\"1\",\"gender\":\"2\",\"morph\":\"1\",\"xy\":[{\"x\":550,\"y\":618},{\"x\":549,\"y\":618},{\"x\":548,\"y\":618},{\"x\":548,\"y\":617},{\"x\":544,\"y\":595},{\"x\":537,\"y\":576},{\"x\":524,\"y\":547},{\"x\":507,\"y\":516},{\"x\":477,\"y\":466},{\"x\":437,\"y\":419},{\"x\":413,\"y\":393},{\"x\":385,\"y\":364},{\"x\":359,\"y\":340},{\"x\":334,\"y\":317},{\"x\":309,\"y\":296},{\"x\":284,\"y\":275},{\"x\":248,\"y\":248},{\"x\":231,\"y\":235},{\"x\":216,\"y\":225},{\"x\":200,\"y\":215},{\"x\":186,\"y\":207},{\"x\":174,\"y\":200},{\"x\":162,\"y\":192},{\"x\":142,\"y\":178},{\"x\":136,\"y\":173},{\"x\":131,\"y\":167},{\"x\":128,\"y\":161},{\"x\":125,\"y\":156},{\"x\":120,\"y\":147},{\"x\":115,\"y\":138},{\"x\":109,\"y\":125},{\"x\":105,\"y\":116},{\"x\":102,\"y\":107},{\"x\":99,\"y\":97},{\"x\":97,\"y\":91},{\"x\":89,\"y\":72},{\"x\":84,\"y\":64},{\"x\":82,\"y\":61},{\"x\":80,\"y\":60},{\"x\":77,\"y\":59},{\"x\":74,\"y\":58},{\"x\":71,\"y\":55},{\"x\":66,\"y\":50},{\"x\":64,\"y\":47},{\"x\":62,\"y\":43},{\"x\":59,\"y\":41},{\"x\":59,\"y\":41},{\"x\":58,\"y\":40},{\"x\":57,\"y\":39},{\"x\":57,\"y\":39},{\"x\":57,\"y\":38}]}\n",
      "traject2: {\"food\":\"1\",\"num\":\"2\",\"gender\":\"1\",\"morph\":\"3\",\"xy\":[{\"x\":542,\"y\":625},{\"x\":544,\"y\":619},{\"x\":544,\"y\":617},{\"x\":545,\"y\":614},{\"x\":546,\"y\":606},{\"x\":550,\"y\":591},{\"x\":558,\"y\":571},{\"x\":570,\"y\":545},{\"x\":593,\"y\":504},{\"x\":608,\"y\":480},{\"x\":627,\"y\":453},{\"x\":644,\"y\":429},{\"x\":660,\"y\":410},{\"x\":673,\"y\":390},{\"x\":690,\"y\":366},{\"x\":704,\"y\":347},{\"x\":721,\"y\":326},{\"x\":735,\"y\":303},{\"x\":750,\"y\":281},{\"x\":766,\"y\":257},{\"x\":780,\"y\":239},{\"x\":803,\"y\":212},{\"x\":813,\"y\":201},{\"x\":823,\"y\":191},{\"x\":834,\"y\":183},{\"x\":844,\"y\":174},{\"x\":855,\"y\":163},{\"x\":861,\"y\":158},{\"x\":893,\"y\":132},{\"x\":900,\"y\":125},{\"x\":904,\"y\":122},{\"x\":911,\"y\":115},{\"x\":913,\"y\":113},{\"x\":914,\"y\":111},{\"x\":920,\"y\":106},{\"x\":934,\"y\":91},{\"x\":943,\"y\":82},{\"x\":946,\"y\":78},{\"x\":952,\"y\":71},{\"x\":959,\"y\":64},{\"x\":985,\"y\":39},{\"x\":987,\"y\":38},{\"x\":988,\"y\":37},{\"x\":989,\"y\":35},{\"x\":990,\"y\":35},{\"x\":990,\"y\":34},{\"x\":991,\"y\":34},{\"x\":991,\"y\":33},{\"x\":992,\"y\":32},{\"x\":993,\"y\":32}]}\n",
      "traject7: {\"food\":\"4\",\"num\":\"2\",\"gender\":\"2\",\"morph\":\"1\",\"xy\":[{\"x\":540,\"y\":624},{\"x\":538,\"y\":619},{\"x\":518,\"y\":569},{\"x\":505,\"y\":541},{\"x\":466,\"y\":467},{\"x\":408,\"y\":373},{\"x\":331,\"y\":279},{\"x\":254,\"y\":199},{\"x\":147,\"y\":103},{\"x\":106,\"y\":75},{\"x\":89,\"y\":64},{\"x\":80,\"y\":58},{\"x\":76,\"y\":55},{\"x\":73,\"y\":53},{\"x\":71,\"y\":51},{\"x\":70,\"y\":50},{\"x\":66,\"y\":48},{\"x\":64,\"y\":46},{\"x\":63,\"y\":46},{\"x\":63,\"y\":46},{\"x\":62,\"y\":45},{\"x\":62,\"y\":45},{\"x\":62,\"y\":44},{\"x\":62,\"y\":43},{\"x\":62,\"y\":43},{\"x\":62,\"y\":43}]}\n",
      "traject6: {\"food\":\"3\",\"num\":\"1\",\"gender\":\"1\",\"morph\":\"1\",\"xy\":[{\"x\":556,\"y\":593},{\"x\":563,\"y\":580},{\"x\":585,\"y\":537},{\"x\":611,\"y\":477},{\"x\":632,\"y\":402},{\"x\":661,\"y\":309},{\"x\":716,\"y\":213},{\"x\":735,\"y\":193},{\"x\":803,\"y\":129},{\"x\":859,\"y\":93},{\"x\":872,\"y\":86},{\"x\":879,\"y\":83},{\"x\":887,\"y\":81},{\"x\":889,\"y\":81},{\"x\":901,\"y\":81},{\"x\":920,\"y\":82},{\"x\":922,\"y\":82},{\"x\":924,\"y\":82},{\"x\":930,\"y\":82},{\"x\":934,\"y\":82},{\"x\":935,\"y\":82},{\"x\":943,\"y\":81},{\"x\":945,\"y\":81},{\"x\":952,\"y\":76},{\"x\":958,\"y\":71},{\"x\":959,\"y\":69},{\"x\":968,\"y\":60},{\"x\":976,\"y\":52},{\"x\":986,\"y\":43},{\"x\":992,\"y\":37},{\"x\":995,\"y\":34},{\"x\":996,\"y\":34},{\"x\":996,\"y\":33}]}\n",
      "traject5: {\"food\":\"3\",\"num\":\"3\",\"gender\":\"1\",\"morph\":\"3\",\"xy\":[{\"x\":533,\"y\":617},{\"x\":523,\"y\":595},{\"x\":489,\"y\":527},{\"x\":455,\"y\":463},{\"x\":406,\"y\":387},{\"x\":342,\"y\":310},{\"x\":279,\"y\":245},{\"x\":227,\"y\":200},{\"x\":183,\"y\":168},{\"x\":134,\"y\":136},{\"x\":111,\"y\":123},{\"x\":94,\"y\":116},{\"x\":82,\"y\":112},{\"x\":52,\"y\":99},{\"x\":33,\"y\":80},{\"x\":31,\"y\":77},{\"x\":29,\"y\":76},{\"x\":26,\"y\":72},{\"x\":26,\"y\":72},{\"x\":25,\"y\":71},{\"x\":25,\"y\":71},{\"x\":25,\"y\":70},{\"x\":25,\"y\":68},{\"x\":25,\"y\":65},{\"x\":25,\"y\":65},{\"x\":25,\"y\":64},{\"x\":26,\"y\":63},{\"x\":26,\"y\":63},{\"x\":27,\"y\":62},{\"x\":29,\"y\":59},{\"x\":33,\"y\":55},{\"x\":34,\"y\":53},{\"x\":44,\"y\":39},{\"x\":50,\"y\":30},{\"x\":50,\"y\":29},{\"x\":51,\"y\":28},{\"x\":51,\"y\":27}]}\n",
      "traject4: {\"food\":\"3\",\"num\":\"3\",\"gender\":\"2\",\"morph\":\"3\",\"xy\":[{\"x\":548,\"y\":615},{\"x\":551,\"y\":613},{\"x\":558,\"y\":607},{\"x\":565,\"y\":596},{\"x\":582,\"y\":570},{\"x\":604,\"y\":535},{\"x\":631,\"y\":497},{\"x\":651,\"y\":460},{\"x\":675,\"y\":404},{\"x\":698,\"y\":355},{\"x\":727,\"y\":308},{\"x\":764,\"y\":270},{\"x\":792,\"y\":241},{\"x\":815,\"y\":220},{\"x\":835,\"y\":202},{\"x\":840,\"y\":198},{\"x\":842,\"y\":196},{\"x\":844,\"y\":195},{\"x\":845,\"y\":195},{\"x\":845,\"y\":195},{\"x\":846,\"y\":195},{\"x\":850,\"y\":193},{\"x\":856,\"y\":190},{\"x\":865,\"y\":186},{\"x\":873,\"y\":184},{\"x\":880,\"y\":181},{\"x\":888,\"y\":179},{\"x\":895,\"y\":176},{\"x\":904,\"y\":172},{\"x\":908,\"y\":169},{\"x\":912,\"y\":166},{\"x\":920,\"y\":159},{\"x\":928,\"y\":152},{\"x\":935,\"y\":144},{\"x\":943,\"y\":136},{\"x\":951,\"y\":128},{\"x\":955,\"y\":122},{\"x\":958,\"y\":116},{\"x\":963,\"y\":107},{\"x\":966,\"y\":103},{\"x\":967,\"y\":102},{\"x\":969,\"y\":96},{\"x\":972,\"y\":89},{\"x\":973,\"y\":86},{\"x\":974,\"y\":78},{\"x\":974,\"y\":77},{\"x\":974,\"y\":76},{\"x\":974,\"y\":74},{\"x\":976,\"y\":73},{\"x\":978,\"y\":68},{\"x\":982,\"y\":62},{\"x\":983,\"y\":60},{\"x\":986,\"y\":54},{\"x\":989,\"y\":48},{\"x\":989,\"y\":48},{\"x\":990,\"y\":47},{\"x\":990,\"y\":47},{\"x\":990,\"y\":47},{\"x\":990,\"y\":44}]}\n"
     ]
    }
   ],
   "source": [
    "for key, value in storage.get_all().items():\n",
    "    print (key + ': ' + value)"
   ]
  },
  {
   "cell_type": "code",
   "execution_count": 22,
   "metadata": {
    "collapsed": true
   },
   "outputs": [],
   "source": [
    "import pickle"
   ]
  },
  {
   "cell_type": "code",
   "execution_count": 27,
   "metadata": {
    "collapsed": true
   },
   "outputs": [],
   "source": [
    "with open(\"./result/participantTest.txt\", \"w\") as outputfile:\n",
    "    pickle.dump(storage.get_all() ,outputfile)"
   ]
  },
  {
   "cell_type": "code",
   "execution_count": 28,
   "metadata": {
    "collapsed": true
   },
   "outputs": [],
   "source": [
    "with open(\"./result/participantTest.txt\", \"r\") as inputfile:\n",
    "    testResult = pickle.load(inputfile)"
   ]
  },
  {
   "cell_type": "code",
   "execution_count": 30,
   "metadata": {},
   "outputs": [
    {
     "data": {
      "text/plain": [
       "[u'traject3', u'traject2', u'traject7', u'traject6', u'traject5', u'traject4']"
      ]
     },
     "execution_count": 30,
     "metadata": {},
     "output_type": "execute_result"
    }
   ],
   "source": [
    "testResult.keys()"
   ]
  },
  {
   "cell_type": "code",
   "execution_count": null,
   "metadata": {
    "collapsed": true
   },
   "outputs": [],
   "source": [
    "storage.get_all()"
   ]
  }
 ],
 "metadata": {
  "kernelspec": {
   "display_name": "Python 2",
   "language": "python",
   "name": "python2"
  },
  "language_info": {
   "codemirror_mode": {
    "name": "ipython",
    "version": 2
   },
   "file_extension": ".py",
   "mimetype": "text/x-python",
   "name": "python",
   "nbconvert_exporter": "python",
   "pygments_lexer": "ipython2",
   "version": "2.7.13"
  }
 },
 "nbformat": 4,
 "nbformat_minor": 1
}
