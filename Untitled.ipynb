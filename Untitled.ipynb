{
 "cells": [
  {
   "cell_type": "code",
   "execution_count": 8,
   "metadata": {
    "collapsed": true
   },
   "outputs": [],
   "source": [
    "import numpy as np\n",
    "import glob, os\n",
    "import json"
   ]
  },
  {
   "cell_type": "markdown",
   "metadata": {},
   "source": [
    "## Randomnized Img Dict"
   ]
  },
  {
   "cell_type": "code",
   "execution_count": 2,
   "metadata": {
    "collapsed": false
   },
   "outputs": [],
   "source": [
    "imgs = []"
   ]
  },
  {
   "cell_type": "code",
   "execution_count": 3,
   "metadata": {
    "collapsed": false
   },
   "outputs": [],
   "source": [
    "for file in glob.glob(\"./img/*.jpg\"):\n",
    "    imgs.append(file)"
   ]
  },
  {
   "cell_type": "code",
   "execution_count": 4,
   "metadata": {
    "collapsed": true
   },
   "outputs": [],
   "source": [
    "seeds = np.random.permutation(len(imgs))"
   ]
  },
  {
   "cell_type": "code",
   "execution_count": 5,
   "metadata": {
    "collapsed": false
   },
   "outputs": [],
   "source": [
    "imgs = np.array(imgs)\n",
    "perm_imgs = imgs[seeds]"
   ]
  },
  {
   "cell_type": "code",
   "execution_count": 6,
   "metadata": {
    "collapsed": false
   },
   "outputs": [
    {
     "name": "stdout",
     "output_type": "stream",
     "text": [
      "66\n"
     ]
    },
    {
     "data": {
      "text/plain": [
       "array(['./img/1-1-1-2.jpg', './img/2-2-1-3.jpg', './img/4-2-1-1.jpg',\n",
       "       './img/2-3-2-1.jpg', './img/2-3-1-1.jpg', './img/1-1-2-1.jpg',\n",
       "       './img/1-3-1-2.jpg', './img/2-2-2-2.jpg', './img/4-1-1-3.jpg',\n",
       "       './img/1-2-1-3.jpg', './img/1-2-2-3.jpg', './img/1-2-2-2.jpg',\n",
       "       './img/2-3-1-2.jpg', './img/3-3-2-2.jpg', './img/1-2-2-1.jpg',\n",
       "       './img/3-3-1-3.jpg', './img/1-3-1-3.jpg', './img/3-3-2-1.jpg',\n",
       "       './img/4-2-1-3.jpg', './img/3-1-2-2.jpg', './img/2-1-1-3.jpg',\n",
       "       './img/1-1-2-3.jpg', './img/4-1-2-1.jpg', './img/4-2-1-2.jpg',\n",
       "       './img/2-1-2-2.jpg', './img/3-2-1-2.jpg', './img/3-3-1-1.jpg',\n",
       "       './img/1-2-1-1.jpg', './img/3-2-1-1.jpg', './img/2-3-2-2.jpg',\n",
       "       './img/2-2-1-1.jpg', './img/4-1-2-3.jpg', './img/2-2-1-2.jpg',\n",
       "       './img/1-3-2-1.jpg', './img/3-1-2-3.jpg', './img/3-1-1-3.jpg',\n",
       "       './img/1-1-1-3.jpg', './img/1-1-1-1.jpg', './img/3-3-2-3.jpg',\n",
       "       './img/4-1-2-2.jpg', './img/3-1-1-2.jpg', './img/1-2-1-2.jpg',\n",
       "       './img/2-1-2-1.jpg', './img/3-1-2-1.jpg', './img/3-2-2-1.jpg',\n",
       "       './img/4-2-2-2.jpg', './img/1-1-2-2.jpg', './img/4-2-2-1.jpg',\n",
       "       './img/2-2-2-3.jpg', './img/1-3-2-3.jpg', './img/3-2-1-3.jpg',\n",
       "       './img/3-3-1-2.jpg', './img/2-3-2-3.jpg', './img/4-1-1-2.jpg',\n",
       "       './img/2-1-2-3.jpg', './img/1-3-1-1.jpg', './img/2-1-1-1.jpg',\n",
       "       './img/4-1-1-1.jpg', './img/2-2-2-1.jpg', './img/3-2-2-3.jpg',\n",
       "       './img/2-1-1-2.jpg', './img/3-1-1-1.jpg', './img/2-3-1-3.jpg',\n",
       "       './img/3-2-2-2.jpg', './img/1-3-2-2.jpg', './img/4-2-2-3.jpg'],\n",
       "      dtype='<U17')"
      ]
     },
     "execution_count": 6,
     "metadata": {},
     "output_type": "execute_result"
    }
   ],
   "source": [
    "print (len(perm_imgs))\n",
    "perm_imgs"
   ]
  },
  {
   "cell_type": "code",
   "execution_count": 7,
   "metadata": {
    "collapsed": true
   },
   "outputs": [],
   "source": [
    "img_dict = {i: perm_imgs[i] for i in range(len(imgs))  }"
   ]
  },
  {
   "cell_type": "code",
   "execution_count": 10,
   "metadata": {
    "collapsed": false
   },
   "outputs": [],
   "source": [
    "with open(\"./json/img_json.json\", 'w') as outputfile:\n",
    "    json.dump(img_dict, outputfile)"
   ]
  },
  {
   "cell_type": "markdown",
   "metadata": {},
   "source": [
    "## try scripting localstorage file"
   ]
  },
  {
   "cell_type": "markdown",
   "metadata": {},
   "source": [
    "**To make the following codes work, need to:**\n",
    "- Download the right version of geckodriver from \"https://github.com/mozilla/geckodriver/releases\", upzip and copy the executable file to `usr/local/bin` (this is on mac and ubuntu, could be the same for Windows)\n",
    "- Download the right chromedriver and move it into the same folder \"https://chromedriver.storage.googleapis.com/index.html?path=2.32/\""
   ]
  },
  {
   "cell_type": "code",
   "execution_count": 26,
   "metadata": {
    "collapsed": false
   },
   "outputs": [],
   "source": [
    "#borrow the work from \"https://stackoverflow.com/questions/35508631/access-and-manage-local-storage-from-splinter\"\n",
    "class LocalStorage:\n",
    "\n",
    "    def __init__(self, browser):\n",
    "        self.browser = browser\n",
    "\n",
    "    def set(self, key, value):\n",
    "        self.browser.execute_script(\\\n",
    "      \"window.localStorage.setItem('{}',{})\".format(key, json.dumps(value)))\n",
    "\n",
    "    def get(self, key):\n",
    "        return self.browser.evaluate_script(\\\n",
    "      \"window.localStorage.getItem('{}')\".format(key));\n",
    "\n",
    "    def get_all(self):\n",
    "        return self.browser.evaluate_script(\"\"\"(function(){\n",
    "      var items = {}, ls = window.localStorage;\n",
    "      for (var i = 0, k; i < ls.length; i++)\n",
    "        items[k = ls.key(i)] = ls.getItem(k);\n",
    "      return items;\n",
    "      })()\"\"\")\n",
    "\n",
    "    def remove(self, key):\n",
    "        self.browser.execute_script(\\\n",
    "      \"window.localStorage.removeItem('{}');\".format(key));\n",
    "\n",
    "    def clear(self):\n",
    "        self.browser.execute_script(\\\n",
    "      \"window.localStorage.clear();\")"
   ]
  },
  {
   "cell_type": "code",
   "execution_count": null,
   "metadata": {
    "collapsed": false
   },
   "outputs": [],
   "source": [
    "from splinter import Browser\n",
    "\n",
    "browser = Browser(driver_name='chrome')\n",
    "browser.visit(\"http://localhost:63342/Controlled-Experiments/index.html?_ijt=6eo71pq0so4uu8mbv9eir15q24\")\n",
    "#the url of our website, could be localhost or github io\n",
    "\n",
    "# get the local storage\n",
    "storage = LocalStorage(browser)\n",
    "\n",
    "# get an item\n",
    "print (storage.get(\"bgcolor\"))\n",
    "\n",
    "# set an item\n",
    "storage.set(\"size\", 452)\n",
    "\n",
    "# remove an item\n",
    "storage.remove(\"size\")\n",
    "\n",
    "# get all items\n",
    "for key, value in storage.get_all().items():\n",
    "    print (key + ': ' + value)\n",
    "\n",
    "# delete all items\n",
    "storage.clear()"
   ]
  },
  {
   "cell_type": "code",
   "execution_count": 54,
   "metadata": {
    "collapsed": false
   },
   "outputs": [
    {
     "data": {
      "text/plain": [
       "452"
      ]
     },
     "execution_count": 54,
     "metadata": {},
     "output_type": "execute_result"
    }
   ],
   "source": [
    "#is the key is a stringified json, use json.loads to reformat it into a dict\n",
    "json.loads(value)"
   ]
  },
  {
   "cell_type": "code",
   "execution_count": 52,
   "metadata": {
    "collapsed": false
   },
   "outputs": [
    {
     "data": {
      "text/plain": [
       "{}"
      ]
     },
     "execution_count": 52,
     "metadata": {},
     "output_type": "execute_result"
    }
   ],
   "source": [
    "storage.get_all()"
   ]
  },
  {
   "cell_type": "code",
   "execution_count": null,
   "metadata": {
    "collapsed": true
   },
   "outputs": [],
   "source": []
  }
 ],
 "metadata": {
  "kernelspec": {
   "display_name": "Python [py36]",
   "language": "python",
   "name": "Python [py36]"
  },
  "language_info": {
   "codemirror_mode": {
    "name": "ipython",
    "version": 3
   },
   "file_extension": ".py",
   "mimetype": "text/x-python",
   "name": "python",
   "nbconvert_exporter": "python",
   "pygments_lexer": "ipython3",
   "version": "3.6.2"
  }
 },
 "nbformat": 4,
 "nbformat_minor": 0
}
