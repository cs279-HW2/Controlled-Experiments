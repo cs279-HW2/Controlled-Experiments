{
 "cells": [
  {
   "cell_type": "code",
   "execution_count": 27,
   "metadata": {
    "collapsed": true
   },
   "outputs": [],
   "source": [
    "import numpy as np\n",
    "import glob, os\n",
    "import json"
   ]
  },
  {
   "cell_type": "markdown",
   "metadata": {},
   "source": [
    "## Randomnized Img Dict"
   ]
  },
  {
   "cell_type": "code",
   "execution_count": 37,
   "metadata": {},
   "outputs": [],
   "source": [
    "imgs = []"
   ]
  },
  {
   "cell_type": "code",
   "execution_count": 38,
   "metadata": {},
   "outputs": [],
   "source": [
    "for file in glob.glob(\"./img/*.jpg\"):\n",
    "    imgs.append(file)"
   ]
  },
  {
   "cell_type": "code",
   "execution_count": 71,
   "metadata": {},
   "outputs": [
    {
     "data": {
      "text/plain": [
       "73"
      ]
     },
     "execution_count": 71,
     "metadata": {},
     "output_type": "execute_result"
    }
   ],
   "source": [
    "seeds = np.random.permutation(len(imgs))\n",
    "seeds\n",
    "len(imgs)"
   ]
  },
  {
   "cell_type": "code",
   "execution_count": 72,
   "metadata": {},
   "outputs": [
    {
     "data": {
      "text/plain": [
       "array([ 0,  9, 40, 54, 51, 37, 22, 47, 34, 43,  3, 52, 67,  4, 36, 31, 30,\n",
       "       58, 20, 10, 64, 63, 61, 16, 68, 46,  5, 12, 27, 57, 24, 55, 49,  2,\n",
       "       19, 35, 69, 39, 32, 45, 18, 15, 42, 66,  6, 48, 23, 59, 70, 56, 17,\n",
       "       41, 65, 29, 26, 28, 25, 38, 33,  1, 71,  8, 11, 21, 50, 14, 44, 60,\n",
       "        7, 53, 62, 13, 72])"
      ]
     },
     "execution_count": 72,
     "metadata": {},
     "output_type": "execute_result"
    }
   ],
   "source": [
    "for i in range(0, len(imgs)):\n",
    "    if seeds[i] == 0:\n",
    "        tmp = seeds[0]\n",
    "        seeds[0] = 0\n",
    "        seeds[i] = tmp\n",
    "    if seeds[i] == len(imgs)-1:\n",
    "        tmp = seeds[len(imgs)-1]\n",
    "        seeds[len(imgs)-1] = len(imgs)-1\n",
    "        seeds[i] = tmp\n",
    "    #first break\n",
    "    if seeds[i] == len(imgs)-6:\n",
    "        tmp = seeds[12]\n",
    "        seeds[12] = len(imgs)-6\n",
    "        seeds[i] = tmp\n",
    "    #second break\n",
    "    if seeds[i] == len(imgs)-5:\n",
    "        tmp = seeds[24]\n",
    "        seeds[24] = len(imgs)-5\n",
    "        seeds[i] = tmp\n",
    "    #third break\n",
    "    if seeds[i] == len(imgs)-4:\n",
    "        tmp = seeds[36]\n",
    "        seeds[36] = len(imgs)-4\n",
    "        seeds[i] = tmp\n",
    "    #fourth break\n",
    "    if seeds[i] == len(imgs)-3:\n",
    "        tmp = seeds[48]\n",
    "        seeds[48] = len(imgs)-3\n",
    "        seeds[i] = tmp\n",
    "    #fifth break\n",
    "    if seeds[i] == len(imgs)-2:\n",
    "        tmp = seeds[60]\n",
    "        seeds[60] = len(imgs)-2\n",
    "        seeds[i] = tmp\n",
    "seeds\n",
    "        "
   ]
  },
  {
   "cell_type": "code",
   "execution_count": 73,
   "metadata": {},
   "outputs": [
    {
     "data": {
      "text/plain": [
       "array(['./img/0.jpg', './img/1-1-1-1.jpg', './img/1-1-1-2.jpg',\n",
       "       './img/1-1-1-3.jpg', './img/1-1-2-1.jpg', './img/1-1-2-2.jpg',\n",
       "       './img/1-1-2-3.jpg', './img/1-2-1-1.jpg', './img/1-2-1-2.jpg',\n",
       "       './img/1-2-1-3.jpg', './img/1-2-2-1.jpg', './img/1-2-2-2.jpg',\n",
       "       './img/1-2-2-3.jpg', './img/1-3-1-1.jpg', './img/1-3-1-2.jpg',\n",
       "       './img/1-3-1-3.jpg', './img/1-3-2-1.jpg', './img/1-3-2-2.jpg',\n",
       "       './img/1-3-2-3.jpg', './img/2-1-1-1.jpg', './img/2-1-1-2.jpg',\n",
       "       './img/2-1-1-3.jpg', './img/2-1-2-1.jpg', './img/2-1-2-2.jpg',\n",
       "       './img/2-1-2-3.jpg', './img/2-2-1-1.jpg', './img/2-2-1-2.jpg',\n",
       "       './img/2-2-1-3.jpg', './img/2-2-2-1.jpg', './img/2-2-2-2.jpg',\n",
       "       './img/2-2-2-3.jpg', './img/2-3-1-1.jpg', './img/2-3-1-2.jpg',\n",
       "       './img/2-3-1-3.jpg', './img/2-3-2-1.jpg', './img/2-3-2-2.jpg',\n",
       "       './img/2-3-2-3.jpg', './img/3-1-1-1.jpg', './img/3-1-1-2.jpg',\n",
       "       './img/3-1-1-3.jpg', './img/3-1-2-1.jpg', './img/3-1-2-2.jpg',\n",
       "       './img/3-1-2-3.jpg', './img/3-2-1-1.jpg', './img/3-2-1-2.jpg',\n",
       "       './img/3-2-1-3.jpg', './img/3-2-2-1.jpg', './img/3-2-2-2.jpg',\n",
       "       './img/3-2-2-3.jpg', './img/3-3-1-1.jpg', './img/3-3-1-2.jpg',\n",
       "       './img/3-3-1-3.jpg', './img/3-3-2-1.jpg', './img/3-3-2-2.jpg',\n",
       "       './img/3-3-2-3.jpg', './img/4-1-1-1.jpg', './img/4-1-1-2.jpg',\n",
       "       './img/4-1-1-3.jpg', './img/4-1-2-1.jpg', './img/4-1-2-2.jpg',\n",
       "       './img/4-1-2-3.jpg', './img/4-2-1-1.jpg', './img/4-2-1-2.jpg',\n",
       "       './img/4-2-1-3.jpg', './img/4-2-2-1.jpg', './img/4-2-2-2.jpg',\n",
       "       './img/4-2-2-3.jpg', './img/6-1.jpg', './img/6-2.jpg',\n",
       "       './img/6-3.jpg', './img/6-4.jpg', './img/6-5.jpg', './img/7.jpg'], \n",
       "      dtype='|S17')"
      ]
     },
     "execution_count": 73,
     "metadata": {},
     "output_type": "execute_result"
    }
   ],
   "source": [
    "imgs = np.array(imgs)\n",
    "imgs"
   ]
  },
  {
   "cell_type": "code",
   "execution_count": 74,
   "metadata": {},
   "outputs": [
    {
     "name": "stdout",
     "output_type": "stream",
     "text": [
      "73\n"
     ]
    },
    {
     "data": {
      "text/plain": [
       "array(['./img/0.jpg', './img/1-2-1-3.jpg', './img/3-1-2-1.jpg',\n",
       "       './img/3-3-2-3.jpg', './img/3-3-1-3.jpg', './img/3-1-1-1.jpg',\n",
       "       './img/2-1-2-1.jpg', './img/3-2-2-2.jpg', './img/2-3-2-1.jpg',\n",
       "       './img/3-2-1-1.jpg', './img/1-1-1-3.jpg', './img/3-3-2-1.jpg',\n",
       "       './img/6-1.jpg', './img/1-1-2-1.jpg', './img/2-3-2-3.jpg',\n",
       "       './img/2-3-1-1.jpg', './img/2-2-2-3.jpg', './img/4-1-2-1.jpg',\n",
       "       './img/2-1-1-2.jpg', './img/1-2-2-1.jpg', './img/4-2-2-1.jpg',\n",
       "       './img/4-2-1-3.jpg', './img/4-2-1-1.jpg', './img/1-3-2-1.jpg',\n",
       "       './img/6-2.jpg', './img/3-2-2-1.jpg', './img/1-1-2-2.jpg',\n",
       "       './img/1-2-2-3.jpg', './img/2-2-1-3.jpg', './img/4-1-1-3.jpg',\n",
       "       './img/2-1-2-3.jpg', './img/4-1-1-1.jpg', './img/3-3-1-1.jpg',\n",
       "       './img/1-1-1-2.jpg', './img/2-1-1-1.jpg', './img/2-3-2-2.jpg',\n",
       "       './img/6-3.jpg', './img/3-1-1-3.jpg', './img/2-3-1-2.jpg',\n",
       "       './img/3-2-1-3.jpg', './img/1-3-2-3.jpg', './img/1-3-1-3.jpg',\n",
       "       './img/3-1-2-3.jpg', './img/4-2-2-3.jpg', './img/1-1-2-3.jpg',\n",
       "       './img/3-2-2-3.jpg', './img/2-1-2-2.jpg', './img/4-1-2-2.jpg',\n",
       "       './img/6-4.jpg', './img/4-1-1-2.jpg', './img/1-3-2-2.jpg',\n",
       "       './img/3-1-2-2.jpg', './img/4-2-2-2.jpg', './img/2-2-2-2.jpg',\n",
       "       './img/2-2-1-2.jpg', './img/2-2-2-1.jpg', './img/2-2-1-1.jpg',\n",
       "       './img/3-1-1-2.jpg', './img/2-3-1-3.jpg', './img/1-1-1-1.jpg',\n",
       "       './img/6-5.jpg', './img/1-2-1-2.jpg', './img/1-2-2-2.jpg',\n",
       "       './img/2-1-1-3.jpg', './img/3-3-1-2.jpg', './img/1-3-1-2.jpg',\n",
       "       './img/3-2-1-2.jpg', './img/4-1-2-3.jpg', './img/1-2-1-1.jpg',\n",
       "       './img/3-3-2-2.jpg', './img/4-2-1-2.jpg', './img/1-3-1-1.jpg',\n",
       "       './img/7.jpg'], \n",
       "      dtype='|S17')"
      ]
     },
     "execution_count": 74,
     "metadata": {},
     "output_type": "execute_result"
    }
   ],
   "source": [
    "perm_imgs = imgs[seeds]\n",
    "\n",
    "print (len(perm_imgs))\n",
    "perm_imgs"
   ]
  },
  {
   "cell_type": "code",
   "execution_count": 75,
   "metadata": {
    "collapsed": true
   },
   "outputs": [],
   "source": [
    "img_dict = {i: perm_imgs[i] for i in range(len(imgs))  }"
   ]
  },
  {
   "cell_type": "code",
   "execution_count": 76,
   "metadata": {},
   "outputs": [],
   "source": [
    "with open(\"./json/img_json.json\", 'w') as outputfile:\n",
    "    json.dump(img_dict, outputfile)"
   ]
  },
  {
   "cell_type": "markdown",
   "metadata": {},
   "source": [
    "## try scripting localstorage file"
   ]
  },
  {
   "cell_type": "markdown",
   "metadata": {},
   "source": [
    "**To make the following codes work, need to:**\n",
    "- Download the right version of geckodriver from \"https://github.com/mozilla/geckodriver/releases\", upzip and copy the executable file to `usr/local/bin` (this is on mac and ubuntu, could be the same for Windows)\n",
    "- Download the right chromedriver and move it into the same folder \"https://chromedriver.storage.googleapis.com/index.html?path=2.32/\""
   ]
  },
  {
   "cell_type": "code",
   "execution_count": 26,
   "metadata": {},
   "outputs": [],
   "source": [
    "#borrow the work from \"https://stackoverflow.com/questions/35508631/access-and-manage-local-storage-from-splinter\"\n",
    "class LocalStorage:\n",
    "\n",
    "    def __init__(self, browser):\n",
    "        self.browser = browser\n",
    "\n",
    "    def set(self, key, value):\n",
    "        self.browser.execute_script(\\\n",
    "      \"window.localStorage.setItem('{}',{})\".format(key, json.dumps(value)))\n",
    "\n",
    "    def get(self, key):\n",
    "        return self.browser.evaluate_script(\\\n",
    "      \"window.localStorage.getItem('{}')\".format(key));\n",
    "\n",
    "    def get_all(self):\n",
    "        return self.browser.evaluate_script(\"\"\"(function(){\n",
    "      var items = {}, ls = window.localStorage;\n",
    "      for (var i = 0, k; i < ls.length; i++)\n",
    "        items[k = ls.key(i)] = ls.getItem(k);\n",
    "      return items;\n",
    "      })()\"\"\")\n",
    "\n",
    "    def remove(self, key):\n",
    "        self.browser.execute_script(\\\n",
    "      \"window.localStorage.removeItem('{}');\".format(key));\n",
    "\n",
    "    def clear(self):\n",
    "        self.browser.execute_script(\\\n",
    "      \"window.localStorage.clear();\")"
   ]
  },
  {
   "cell_type": "code",
   "execution_count": 60,
   "metadata": {},
   "outputs": [
    {
     "name": "stdout",
     "output_type": "stream",
     "text": [
      "None\n",
      "XU: SI\n"
     ]
    }
   ],
   "source": [
    "from splinter import Browser\n",
    "\n",
    "browser = Browser(driver_name='chrome')\n",
    "browser.visit(\"http://localhost:63342/Controlled-Experiments/index.html?_ijt=6eo71pq0so4uu8mbv9eir15q24\")\n",
    "#the url of our website, could be localhost or github io\n",
    "\n",
    "# get the local storage\n",
    "storage = LocalStorage(browser)\n",
    "\n",
    "# get an item\n",
    "print (storage.get(\"bgcolor\"))\n",
    "\n",
    "# set an item\n",
    "storage.set(\"size\", 452)\n",
    "\n",
    "# remove an item\n",
    "storage.remove(\"size\")\n",
    "\n",
    "# get all items\n",
    "for key, value in storage.get_all().items():\n",
    "    print (key + ': ' + value)\n",
    "\n",
    "# delete all items\n",
    "storage.clear()"
   ]
  },
  {
   "cell_type": "code",
   "execution_count": 63,
   "metadata": {},
   "outputs": [
    {
     "name": "stdout",
     "output_type": "stream",
     "text": [
      "traject1: {\"xy\":[{\"x\":551,\"y\":702},{\"x\":551,\"y\":700},{\"x\":551,\"y\":693},{\"x\":551,\"y\":662},{\"x\":551,\"y\":610},{\"x\":562,\"y\":534},{\"x\":586,\"y\":440},{\"x\":644,\"y\":296},{\"x\":701,\"y\":208},{\"x\":772,\"y\":128},{\"x\":850,\"y\":61},{\"x\":901,\"y\":29},{\"x\":957,\"y\":0},{\"x\":1049,\"y\":2},{\"x\":1049,\"y\":2},{\"x\":1036,\"y\":24},{\"x\":1027,\"y\":37},{\"x\":1020,\"y\":46},{\"x\":1013,\"y\":53},{\"x\":1008,\"y\":58},{\"x\":1007,\"y\":59},{\"x\":1006,\"y\":59},{\"x\":1006,\"y\":59},{\"x\":1006,\"y\":59},{\"x\":1006,\"y\":60},{\"x\":1006,\"y\":60},{\"x\":1006,\"y\":58},{\"x\":1005,\"y\":55},{\"x\":1004,\"y\":51},{\"x\":1004,\"y\":46},{\"x\":1003,\"y\":44},{\"x\":1003,\"y\":42},{\"x\":1003,\"y\":42},{\"x\":1003,\"y\":42}]}\n",
      "traject2: {\"xy\":[{\"x\":552,\"y\":697},{\"x\":552,\"y\":677},{\"x\":558,\"y\":646},{\"x\":568,\"y\":610},{\"x\":587,\"y\":547},{\"x\":628,\"y\":462},{\"x\":681,\"y\":372},{\"x\":737,\"y\":296},{\"x\":771,\"y\":255},{\"x\":811,\"y\":209},{\"x\":846,\"y\":176},{\"x\":865,\"y\":159},{\"x\":892,\"y\":136},{\"x\":903,\"y\":127},{\"x\":912,\"y\":120},{\"x\":921,\"y\":115},{\"x\":930,\"y\":111},{\"x\":935,\"y\":108},{\"x\":942,\"y\":104},{\"x\":947,\"y\":100},{\"x\":951,\"y\":97},{\"x\":956,\"y\":93},{\"x\":961,\"y\":89},{\"x\":964,\"y\":86},{\"x\":968,\"y\":81},{\"x\":972,\"y\":75},{\"x\":976,\"y\":66},{\"x\":978,\"y\":61},{\"x\":980,\"y\":55},{\"x\":981,\"y\":51},{\"x\":982,\"y\":47},{\"x\":982,\"y\":44},{\"x\":982,\"y\":42},{\"x\":982,\"y\":41},{\"x\":982,\"y\":41}]}\n",
      "traject3: {\"xy\":[{\"x\":548,\"y\":702},{\"x\":548,\"y\":697},{\"x\":547,\"y\":691},{\"x\":547,\"y\":667},{\"x\":549,\"y\":631},{\"x\":576,\"y\":531},{\"x\":609,\"y\":439},{\"x\":662,\"y\":327},{\"x\":727,\"y\":225},{\"x\":772,\"y\":174},{\"x\":809,\"y\":141},{\"x\":830,\"y\":125},{\"x\":851,\"y\":110},{\"x\":868,\"y\":99},{\"x\":880,\"y\":91},{\"x\":890,\"y\":84},{\"x\":896,\"y\":80},{\"x\":905,\"y\":73},{\"x\":916,\"y\":65},{\"x\":923,\"y\":58},{\"x\":928,\"y\":53},{\"x\":934,\"y\":47},{\"x\":938,\"y\":44},{\"x\":940,\"y\":41},{\"x\":942,\"y\":39},{\"x\":944,\"y\":37},{\"x\":947,\"y\":35},{\"x\":949,\"y\":34},{\"x\":951,\"y\":33},{\"x\":952,\"y\":33},{\"x\":953,\"y\":33},{\"x\":953,\"y\":33},{\"x\":954,\"y\":33}]}\n"
     ]
    }
   ],
   "source": [
    "for key, value in storage.get_all().items():\n",
    "    print (key + ': ' + value)"
   ]
  },
  {
   "cell_type": "code",
   "execution_count": 54,
   "metadata": {},
   "outputs": [
    {
     "data": {
      "text/plain": [
       "452"
      ]
     },
     "execution_count": 54,
     "metadata": {},
     "output_type": "execute_result"
    }
   ],
   "source": [
    "#is the key is a stringified json, use json.loads to reformat it into a dict\n",
    "json.loads(value)"
   ]
  },
  {
   "cell_type": "code",
   "execution_count": null,
   "metadata": {
    "collapsed": true
   },
   "outputs": [],
   "source": []
  }
 ],
 "metadata": {
  "kernelspec": {
   "display_name": "Python 2",
   "language": "python",
   "name": "python2"
  },
  "language_info": {
   "codemirror_mode": {
    "name": "ipython",
    "version": 2
   },
   "file_extension": ".py",
   "mimetype": "text/x-python",
   "name": "python",
   "nbconvert_exporter": "python",
   "pygments_lexer": "ipython2",
   "version": "2.7.13"
  }
 },
 "nbformat": 4,
 "nbformat_minor": 1
}
