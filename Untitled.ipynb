{
 "cells": [
  {
   "cell_type": "code",
   "execution_count": 1,
   "metadata": {
    "collapsed": true
   },
   "outputs": [],
   "source": [
    "import numpy as np\n",
    "import glob, os\n",
    "import json"
   ]
  },
  {
   "cell_type": "code",
   "execution_count": 2,
   "metadata": {
    "collapsed": false
   },
   "outputs": [],
   "source": [
    "imgs = []"
   ]
  },
  {
   "cell_type": "code",
   "execution_count": 3,
   "metadata": {
    "collapsed": false
   },
   "outputs": [],
   "source": [
    "for file in glob.glob(\"./img/*.jpg\"):\n",
    "    imgs.append(file)"
   ]
  },
  {
   "cell_type": "code",
   "execution_count": 4,
   "metadata": {
    "collapsed": true
   },
   "outputs": [],
   "source": [
    "seeds = np.random.permutation(len(imgs))"
   ]
  },
  {
   "cell_type": "code",
   "execution_count": 5,
   "metadata": {
    "collapsed": false
   },
   "outputs": [],
   "source": [
    "imgs = np.array(imgs)\n",
    "perm_imgs = imgs[seeds]"
   ]
  },
  {
   "cell_type": "code",
   "execution_count": 6,
   "metadata": {
    "collapsed": false
   },
   "outputs": [
    {
     "name": "stdout",
     "output_type": "stream",
     "text": [
      "66\n"
     ]
    },
    {
     "data": {
      "text/plain": [
       "array(['./img/1-1-1-2.jpg', './img/2-2-1-3.jpg', './img/4-2-1-1.jpg',\n",
       "       './img/2-3-2-1.jpg', './img/2-3-1-1.jpg', './img/1-1-2-1.jpg',\n",
       "       './img/1-3-1-2.jpg', './img/2-2-2-2.jpg', './img/4-1-1-3.jpg',\n",
       "       './img/1-2-1-3.jpg', './img/1-2-2-3.jpg', './img/1-2-2-2.jpg',\n",
       "       './img/2-3-1-2.jpg', './img/3-3-2-2.jpg', './img/1-2-2-1.jpg',\n",
       "       './img/3-3-1-3.jpg', './img/1-3-1-3.jpg', './img/3-3-2-1.jpg',\n",
       "       './img/4-2-1-3.jpg', './img/3-1-2-2.jpg', './img/2-1-1-3.jpg',\n",
       "       './img/1-1-2-3.jpg', './img/4-1-2-1.jpg', './img/4-2-1-2.jpg',\n",
       "       './img/2-1-2-2.jpg', './img/3-2-1-2.jpg', './img/3-3-1-1.jpg',\n",
       "       './img/1-2-1-1.jpg', './img/3-2-1-1.jpg', './img/2-3-2-2.jpg',\n",
       "       './img/2-2-1-1.jpg', './img/4-1-2-3.jpg', './img/2-2-1-2.jpg',\n",
       "       './img/1-3-2-1.jpg', './img/3-1-2-3.jpg', './img/3-1-1-3.jpg',\n",
       "       './img/1-1-1-3.jpg', './img/1-1-1-1.jpg', './img/3-3-2-3.jpg',\n",
       "       './img/4-1-2-2.jpg', './img/3-1-1-2.jpg', './img/1-2-1-2.jpg',\n",
       "       './img/2-1-2-1.jpg', './img/3-1-2-1.jpg', './img/3-2-2-1.jpg',\n",
       "       './img/4-2-2-2.jpg', './img/1-1-2-2.jpg', './img/4-2-2-1.jpg',\n",
       "       './img/2-2-2-3.jpg', './img/1-3-2-3.jpg', './img/3-2-1-3.jpg',\n",
       "       './img/3-3-1-2.jpg', './img/2-3-2-3.jpg', './img/4-1-1-2.jpg',\n",
       "       './img/2-1-2-3.jpg', './img/1-3-1-1.jpg', './img/2-1-1-1.jpg',\n",
       "       './img/4-1-1-1.jpg', './img/2-2-2-1.jpg', './img/3-2-2-3.jpg',\n",
       "       './img/2-1-1-2.jpg', './img/3-1-1-1.jpg', './img/2-3-1-3.jpg',\n",
       "       './img/3-2-2-2.jpg', './img/1-3-2-2.jpg', './img/4-2-2-3.jpg'],\n",
       "      dtype='<U17')"
      ]
     },
     "execution_count": 6,
     "metadata": {},
     "output_type": "execute_result"
    }
   ],
   "source": [
    "print (len(perm_imgs))\n",
    "perm_imgs"
   ]
  },
  {
   "cell_type": "code",
   "execution_count": 7,
   "metadata": {
    "collapsed": true
   },
   "outputs": [],
   "source": [
    "img_dict = {i: perm_imgs[i] for i in range(len(imgs))  }"
   ]
  },
  {
   "cell_type": "code",
   "execution_count": 10,
   "metadata": {
    "collapsed": false
   },
   "outputs": [],
   "source": [
    "with open(\"./json/img_json.json\", 'w') as outputfile:\n",
    "    json.dump(img_dict, outputfile)"
   ]
  },
  {
   "cell_type": "code",
   "execution_count": null,
   "metadata": {
    "collapsed": true
   },
   "outputs": [],
   "source": []
  }
 ],
 "metadata": {
  "kernelspec": {
   "display_name": "Python [py36]",
   "language": "python",
   "name": "Python [py36]"
  },
  "language_info": {
   "codemirror_mode": {
    "name": "ipython",
    "version": 3
   },
   "file_extension": ".py",
   "mimetype": "text/x-python",
   "name": "python",
   "nbconvert_exporter": "python",
   "pygments_lexer": "ipython3",
   "version": "3.6.2"
  }
 },
 "nbformat": 4,
 "nbformat_minor": 0
}
